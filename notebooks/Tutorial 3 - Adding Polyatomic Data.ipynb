{
 "cells": [
  {
   "cell_type": "markdown",
   "metadata": {},
   "source": [
    "### Tutorial 3: Adding a new polyatomic species entry to your local data store\n",
    "\n",
    "If you would like to do calculations using a plasma species that you haven't used before, you will need to generate a minplascalc data entry for it first. You only need to do this <i>once</i> - minplascalc can store the species data in a plain-text file formatted using JSON syntax, and it will then be available for use in any of your future calculations.\n",
    "\n",
    "The procedure for generating a minplascalc data entry for a new polyatomic species is entirely manual since the data required must be retrieved from various locations. The majority of data for a wide range of species is available from the NIST Chemistry WebBook, http://webbook.nist.gov/chemistry/form-ser/. Enter the formula for the polyatomic species you're interested in in the search box at the top of the page, and click the Search button. If you're looking for data for charged diatomic ions, make sure the \"Exclude ions from the search\" box is unchecked. Let's build a data entry for water, H<sub>2</sub>O:"
   ]
  },
  {
   "cell_type": "markdown",
   "metadata": {},
   "source": [
    "<table>\n",
    "<td><img src=\"demoimg/webbook_landingpage_poly.png\" alt=\"NIST Chemistry WebBook\" style=\"height: 300px;\"/>\n",
    "<td><img src=\"demoimg/webbook_h2o.png\" alt=\"SiO WebBook entry\" style=\"height: 300px;\"/>\n",
    "</table>"
   ]
  },
  {
   "cell_type": "markdown",
   "metadata": {},
   "source": [
    "The first pieces of information needed are the ionisation energy (to turn H<sub>2</sub>O into H<sub>2</sub>O<sup>+</sup>) and the bond dissociation energy (to turn H<sub>2</sub>O into monatomic H and O atoms). The ionisation energy can be found on the \"Gas phase ion energetics\" link on the Chemistry WebBook species page and is usually in units of eV, so remember to convert:"
   ]
  },
  {
   "cell_type": "markdown",
   "metadata": {},
   "source": [
    "<img src=\"demoimg/webbook_ionenergetics_poly.png\" alt=\"SiO ionisation energy\" style=\"width: 400px;\"/>"
   ]
  },
  {
   "cell_type": "markdown",
   "metadata": {},
   "source": [
    "The dissociation energy can be found either on the NIST Computational Chemistry Comparison and Benchmark Database (http://cccbdb.nist.gov/introx.asp), or alternatively from chemistry textbooks or other sources. In the case of H<sub>2</sub>O, the value is 917.82 kJ/mol.\n",
    "\n",
    "We also need some information about the electronic ground state of the molecule, and its vibrational and rotational parameters. For polyatomics this can be obtained from the CCCBDB above, or other sources."
   ]
  },
  {
   "cell_type": "markdown",
   "metadata": {},
   "source": [
    "<table>\n",
    "<td><img src=\"demoimg/cccbdb_landing.png\" alt=\"CCCBDB data page for water\" style=\"height: 250px;\"/>\n",
    "<td><img src=\"demoimg/cccbdb_constants1.png\" alt=\"Ground state level entry\" style=\"height: 250px;\"/>\n",
    "</table>"
   ]
  },
  {
   "cell_type": "markdown",
   "metadata": {},
   "source": [
    "The multiplicity and electronic degeneracy of the ground state, $g_0$, is generally given by the superscripted number in the molecular term expression in the \"State\" column - in the case of H<sub>2</sub>O, it's 1. \n",
    "\n",
    "Additional pieces of data needed to create a polyatomic species object are:\n",
    "* The elemental stoichiometry of the species.\n",
    "* The molar mass of the species, in kg/mol.\n",
    "* The electric charge in units of the elementary charge.\n",
    "* The ionisation energy of the species, in J.\n",
    "* The dissociation (atomisation) energy of the species, in J, only used by neutral species.\n",
    "* The symmetry constant $\\sigma_s$, and a flag indicating whether the molecule is linear or not.\n",
    "* The vibrational constants $\\omega_{e,i}$, in J.\n",
    "* The rotational constants $A$, $B$, and $C$ in J.\n",
    "* The polarisability of the species, in m<sup>3</sup>.\n",
    "* The multiplicity of the ground state.\n",
    "* The number of effective valence electrons (see docstring for more information), only used by neutral species.\n",
    "* Information about electron collision cross sections (see docstring for more information), only used by neutral species.\n",
    "* A list of radiation emission line data, if available (see Tutorial 1 for more information).\n",
    "* A list of sources describing the provenance of the data.\n",
    "\n",
    "With these we have all the information to build a minplascalc data entry for the SiO species, which can be done by running the following code snippet:\n",
    "\n",
    "Now we have all the information to build a minplascalc data entry for the H<sub>2</sub>O species, which can be done by running the following code snippet:"
   ]
  },
  {
   "cell_type": "code",
   "execution_count": 1,
   "metadata": {},
   "outputs": [
    {
     "name": "stdout",
     "output_type": "stream",
     "text": [
      "Species: H2O\n",
      "Type: Polyatomic molecule\n",
      "Stoichiometry: {'H': 2, 'O': 1}\n",
      "Molar mass: 0.0180153 kg/mol\n",
      "Charge number: 0\n",
      "Dissociation energy: 1.5388215535500037e-18 J\n",
      "Ionisation energy: 2.0221071297713998e-18 J\n",
      "linear_yn: False\n",
      "sigma_s: 2\n",
      "g0: 1\n",
      "wi_e: [np.float64(7.264434908611812e-20), np.float64(3.168382192845458e-20), np.float64(7.461093113684979e-20)] J\n",
      "ABC_e: [np.float64(5.537616952348139e-22), np.float64(2.882731183860394e-22), np.float64(1.8444155900043935e-22)] J\n",
      "Polarisability: 1.501e-30 m^3\n",
      "Multiplicity: 1\n",
      "Effective valence electrons: 7.04\n",
      "Electron cross section data: [9.274e-36, 41.81, -2.09, 1.066e-20]\n",
      "Emission lines: 0\n"
     ]
    }
   ],
   "source": [
    "import numpy\n",
    "from scipy import constants\n",
    "\n",
    "import minplascalc as mpc\n",
    "\n",
    "invcm_to_joule = constants.Boltzmann / (\n",
    "    0.01\n",
    "    * constants.physical_constants[\"Boltzmann constant in inverse meters per kelvin\"][0]\n",
    ")\n",
    "eV_to_joule = constants.elementary_charge\n",
    "\n",
    "water = mpc.species.Polyatomic(\n",
    "    name=\"H2O\",\n",
    "    stoichiometry={\"H\": 2, \"O\": 1},\n",
    "    molarmass=0.0180153,\n",
    "    chargenumber=0,\n",
    "    ionisationenergy=eV_to_joule * 12.621,\n",
    "    dissociationenergy=(498.7 + 428) * 1000 / constants.Avogadro,\n",
    "    linear_yn=False,\n",
    "    sigma_s=2,\n",
    "    g0=1,\n",
    "    wi_e=list(invcm_to_joule * numpy.array([3657, 1595, 3756])),\n",
    "    abc_e=list(invcm_to_joule * numpy.array([27.877, 14.512, 9.285])),\n",
    "    polarisability=1.501e-30,\n",
    "    multiplicity=1,\n",
    "    effectiveelectrons=7.04,\n",
    "    electroncrosssection=[9.274e-36, 41.81, -2.090, 1.066e-20],\n",
    "    emissionlines=[],\n",
    "    sources=[\n",
    "        \"NIST Chemistry WebBook, NIST Standard Reference Database Number 69. \"\n",
    "        \"PJ Linstrom and WG Mallard (Editors), National Institute of Standards \"\n",
    "        \"and Technology, Gaithersburg MD., http://webbook.nist.gov/chemistry/, \"\n",
    "        \"doi:10.18434/T4D303\",\n",
    "        \"NIST Computational Chemistry Comparison and Benchmark Database. \"\n",
    "        \"NIST Standard Reference Database Number 101, Release 21, August 2020, \"\n",
    "        \"Editor: Russell D. Johnson III, http://cccbdb.nist.gov/, \"\n",
    "        \"doi:10.18434/T47C7Z\",\n",
    "    ],\n",
    ")\n",
    "\n",
    "print(water)\n",
    "\n",
    "water.to_file()"
   ]
  },
  {
   "cell_type": "markdown",
   "metadata": {},
   "source": [
    "What's happening here? First we import the minplascalc package, then we create a `Polyatomic` species object using our data, and finally we save the contents to a file.\n",
    "\n",
    "The `Polyatomic` class constructor takes as arguments the list of data described above. Once created, the object can be written out to disk using the Species object's `to_file` utility function, which saves data to a human-readable JSON-formatted file. It takes an optional file path argument - if omitted, the filename is created using the species' name and written to the current working directory.\n",
    "\n",
    "After this process it will be possible to create an H<sub>2</sub>O species object in any minplascalc calculation by importing it using either the explicit path to the JSON file, or (preferably) just the name of the species provided the JSON file is stored in any of the standard minplascalc data paths - see later demos for examples. Note that for this to work correctly in all cases, minplascalc's JSON files must be stored on a case-sensitive operating system or partition."
   ]
  }
 ],
 "metadata": {
  "kernelspec": {
   "display_name": "Python 3 (ipykernel)",
   "language": "python",
   "name": "python3"
  },
  "language_info": {
   "codemirror_mode": {
    "name": "ipython",
    "version": 3
   },
   "file_extension": ".py",
   "mimetype": "text/x-python",
   "name": "python",
   "nbconvert_exporter": "python",
   "pygments_lexer": "ipython3",
   "version": "3.9.6"
  }
 },
 "nbformat": 4,
 "nbformat_minor": 4
}
