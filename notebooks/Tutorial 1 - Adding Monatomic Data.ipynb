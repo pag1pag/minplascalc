{
 "cells": [
  {
   "cell_type": "markdown",
   "metadata": {},
   "source": [
    "### Tutorial 1: Adding a new monatomic species entry to your local data store, the manual way\n",
    "\n",
    "If you would like to do calculations using a plasma species that you haven't used before, you will need to generate a minplascalc data entry for it first. You only need to do this <i>once</i> - minplascalc can store the species data in a plain-text file formatted using JSON syntax, and it will then be available for use in any of your future calculations.\n",
    "\n",
    "Data needed to create a species can be obtained from the energy levels and lines section of the NIST Atomic Spectra Database, which can be found at http://physics.nist.gov/PhysRefData/ASD. For example, the landing page for levels looks like this."
   ]
  },
  {
   "cell_type": "markdown",
   "metadata": {},
   "source": [
    "<img src=\"demoimg/asd_landingpage.png\" alt=\"NIST ASD landing page\" style=\"width: 800px;\"/>"
   ]
  },
  {
   "cell_type": "markdown",
   "metadata": {},
   "source": [
    "You must then specify the atom or ion that you want to retrieve energy level information for. Let's get the data for the singly-charged oxygen cation species O<sup>+</sup>, which is \"O II\" in spectrographic terminology. Enter the identifier in the Spectrum field on the form:"
   ]
  },
  {
   "cell_type": "markdown",
   "metadata": {},
   "source": [
    "<img src=\"demoimg/asd_spectrumidentification.png\" alt=\"Spectrum identification\" style=\"width: 400px;\"/>"
   ]
  },
  {
   "cell_type": "markdown",
   "metadata": {},
   "source": [
    "Set your preferences according to how you prefer to access the data. Make sure the \"Level\" and \"J\" checkboxes are ticked - these are the data we will need for minplascalc."
   ]
  },
  {
   "cell_type": "markdown",
   "metadata": {},
   "source": [
    "<img src=\"demoimg/asd_retrievalsettings.png\" alt=\"Spectrum identification\" style=\"width: 400px;\"/>"
   ]
  },
  {
   "cell_type": "markdown",
   "metadata": {},
   "source": [
    "Click the Retrieve Data button. You should receive a page with the energy levels listed out. You'll need to transfer this data into some format that you can manipulate in Python, either by saving text manually or using web scraping tools."
   ]
  },
  {
   "cell_type": "markdown",
   "metadata": {},
   "source": [
    "<table style=\"border:none!important\">\n",
    "<td><img src=\"demoimg/asd_leveldata1.png\" alt=\"Spectrum identification\" style=\"height: 400px;\"/>\n",
    "<td><img src=\"demoimg/asd_leveldata2.png\" alt=\"Spectrum identification\" style=\"height: 400px;\"/>\n",
    "<td><img src=\"demoimg/asd_leveldata3.png\" alt=\"Spectrum identification\" style=\"height: 400px;\"/>\n",
    "</table>"
   ]
  },
  {
   "cell_type": "markdown",
   "metadata": {},
   "source": [
    "Convert the data to a list of length-2 lists, one for each eletronic energy level. Each list entry must contain the degeneracy of the level $j$ and the level's energy in J. A similar exercise must then be performed for the spectral lines using the \"lines\" form on the NIST ASD - these must be stored in a list of length-3 lists containing the line wavelength $\\lambda$ in m, the transition strength $g_k A_{ki}$ in 1/s, and the line energy $E_k$ in J. This exercise has already been performed for the oxygen cation, and data lists from NIST ASD are stored in pickle files at minplascalc/notebooks/demodata.\n",
    "\n",
    "Additional pieces of data needed to create a species object are:\n",
    "* The elemental stoichiometry of the species.\n",
    "* The molar mass of the species, in kg/mol.\n",
    "* The electric charge in units of the elementary charge.\n",
    "* The ionisation energy of the species, in J.\n",
    "* The polarisability of the species, in m<sup>3</sup>.\n",
    "* The multiplicity of the ground state.\n",
    "* The number of effective valence electrons (see docstring for more information), only used by neutral species.\n",
    "* Information about electron collision cross sections (see docstring for more information), only used by neutral species.\n",
    "* A list of sources describing the provenance of the data.\n",
    "\n",
    "Running the following code snippet will create a minplascalc Species object for the O<sup>+</sup> ion and then store it to a file for later reuse:"
   ]
  },
  {
   "cell_type": "code",
   "execution_count": 1,
   "metadata": {},
   "outputs": [
    {
     "name": "stdout",
     "output_type": "stream",
     "text": [
      "Species: O+\n",
      "Type: Monatomic ion\n",
      "Stoichiometry: {'O': 1}\n",
      "Molar mass: 0.01599885642 kg/mol\n",
      "Charge number: 1\n",
      "Ionisation energy: 5.6270249236e-18 J\n",
      "Energy levels: 275\n",
      "Polarisability: 3.91e-31 m^3\n",
      "Multiplicity: 4\n",
      "Effective valence electrons: None\n",
      "Electron cross section data: None\n",
      "Emission lines: 857\n"
     ]
    }
   ],
   "source": [
    "import pickle\n",
    "import minplascalc as mpc\n",
    "\n",
    "with open('demodata/nist_Oplus_levels', 'rb') as f:\n",
    "    elevels = pickle.load(f)\n",
    "with open('demodata/nist_Oplus_emissionlines', 'rb') as f:\n",
    "    elines = pickle.load(f)\n",
    "\n",
    "oxygenplus = mpc.species.Monatomic(\n",
    "    name='O+',\n",
    "    stoichiometry={'O': 1},\n",
    "    molarmass=0.01599885642,\n",
    "    chargenumber=1,\n",
    "    ionisationenergy=5.6270249236e-18,\n",
    "    energylevels=elevels,\n",
    "    polarisability=0.391e-30,\n",
    "    multiplicity=4,    \n",
    "    effectiveelectrons=None,\n",
    "    electroncrosssection=None,\n",
    "    emissionlines=elines,\n",
    "    sources=['NIST Atomic Spectra Database (ver. 5.3), [Online]. A Kramida, '\n",
    "             'Yu Ralchenko, J Reader, and NIST ASD Team, National Institute '\n",
    "             'of Standards and Technology, Gaithersburg MD., '\n",
    "             'http://physics.nist.gov/asd'])\n",
    "\n",
    "print(oxygenplus)\n",
    "\n",
    "oxygenplus.to_file()"
   ]
  },
  {
   "cell_type": "markdown",
   "metadata": {},
   "source": [
    "What's happening here? First we import the minplascalc package, then unpack the NIST data files for energy levels and emission lines, then we create a `Monatomic` species object, and finally we save the contents to a data file.\n",
    "\n",
    "The `Monatomic` class constructor takes as arguments the lists of energy levels and lines, as well as the pieces of data described above. Once created, the object can be written out to disk using the Species object's `to_file` utility function, which saves data to a human-readable JSON-formatted file. It takes an optional file path argument - if omitted, the filename is created using the species' name and written to the current working directory.\n",
    "\n",
    "After this process it will be possible to create an O<sup>+</sup> species object in any minplascalc calculation by importing it using either the explicit path to the JSON file, or (preferably) just the name of the species provided the JSON file is stored in any of the standard minplascalc data paths - see later tutorials for examples. Note that for this to work correctly in all cases, minplascalc's JSON files must be stored on a case-sensitive operating system or partition."
   ]
  }
 ],
 "metadata": {
  "kernelspec": {
   "display_name": "Python 3 (ipykernel)",
   "language": "python",
   "name": "python3"
  },
  "language_info": {
   "codemirror_mode": {
    "name": "ipython",
    "version": 3
   },
   "file_extension": ".py",
   "mimetype": "text/x-python",
   "name": "python",
   "nbconvert_exporter": "python",
   "pygments_lexer": "ipython3",
   "version": "3.9.6"
  }
 },
 "nbformat": 4,
 "nbformat_minor": 4
}
