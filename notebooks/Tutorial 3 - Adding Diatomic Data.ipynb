{
 "cells": [
  {
   "cell_type": "markdown",
   "metadata": {},
   "source": [
    "### Tutorial 3: Adding a new diatomic species entry to your local data store\n",
    "\n",
    "If you would like to do calculations using a plasma species that you haven't used before, you will need to generate a minplascalc data entry for it first. You only need to do this <i>once</i> - minplascalc will store the species data in a plain-text file formatted using JSON syntax, and it will then be available for use in any of your future calculations.\n",
    "\n",
    "The procedure for generating a minplascalc data entry for a new diatomic species is entirely manual since the data required must be retrieved from various locations. The majority of data for a wide range of species is available from the NIST Chemistry WebBook, http://webbook.nist.gov/chemistry/form-ser/. Enter the formula for the diatomic species you're interested in in the search box at the top of the page, and click the Search button. If you're looking for data for charged diatomic ions, make sure the \"Exclude ions from the search\" box is unchecked. Let's build a data entry for Silicon Monoxide, SiO:"
   ]
  },
  {
   "cell_type": "markdown",
   "metadata": {},
   "source": [
    "<table>\n",
    "<td><img src=\"demoimg/webbook_landingpage.png\" alt=\"NIST Chemistry WebBook\" style=\"height: 300px;\"/>\n",
    "<td><img src=\"demoimg/webbook_sio.png\" alt=\"SiO WebBook entry\" style=\"height: 300px;\"/>\n",
    "</table>"
   ]
  },
  {
   "cell_type": "markdown",
   "metadata": {},
   "source": [
    "The first pieces of information needed are the ionisation energy (to turn SiO into SiO<sup>+</sup>) and the bond dissociation energy (to turn SiO into monatomic Si and O), both in units of cm<sup>-1</sup>. The ionisation energy can be found on the \"Gas phase ion energetics\" link on the Chemistry WebBook species page (usually in units of eV, so remember to convert):"
   ]
  },
  {
   "cell_type": "markdown",
   "metadata": {},
   "source": [
    "<img src=\"demoimg/webbook_ionenergetics.png\" alt=\"SiO ionisation energy\" style=\"width: 400px;\"/>"
   ]
  },
  {
   "cell_type": "markdown",
   "metadata": {},
   "source": [
    "The dissociation energy can be found either on the NIST Computational Chemistry Comparison and Benchmark Database (http://cccbdb.nist.gov/introx.asp), or alternatively from chemistry textbooks or other sources. In the case of SiO, the value is 66707.6 cm<sup>-1</sup> (approximately 800 kJ/mol).\n",
    "\n",
    "We then need some information about the electronic ground state of the molecule, and its vibrational and rotational parameters. To get this, go back to the main page for SiO in the Chemistry WebBook and click on \"Constants of diatomic molecules\". This gives the parameters of various energetic states of the molecule - we want the ground state with energy $T_e$ = 0, so scroll all the way down to the entry at the very bottom:"
   ]
  },
  {
   "cell_type": "markdown",
   "metadata": {},
   "source": [
    "<table>\n",
    "<td><img src=\"demoimg/webbook_constants1.png\" alt=\"Molecule constants\" style=\"height: 250px;\"/>\n",
    "<td><img src=\"demoimg/webbook_constants2.png\" alt=\"Ground state level entry\" style=\"height: 250px;\"/>\n",
    "</table>"
   ]
  },
  {
   "cell_type": "markdown",
   "metadata": {},
   "source": [
    "The electronic degeneracy of the ground state, $g_0$, is generally given by the superscripted number in the orbital expression in the \"State\" column - in the case of SiO, it's 1. The vibrational constant $\\omega_e$ and rotational constant $B_e$ are read off the appropriate columns for the ground state entry. The symmetry constant $\\sigma_s$ takes the value of 1 for heteronuclear molecules like SiO, and 2 for homonuclear molecules like O<sub>2</sub>. Now we have all the information to build a minplascalc data entry for the SiO species, which can be done by running the following code snippet:"
   ]
  },
  {
   "cell_type": "code",
   "execution_count": 1,
   "metadata": {},
   "outputs": [],
   "source": [
    "import minplascalc as mpc\n",
    "from scipy import constants\n",
    "\n",
    "invcm_to_joule = constants.Boltzmann / (0.01*constants.value('Boltzmann constant in inverse meters per kelvin'))\n",
    "\n",
    "siliconoxide = mpc.species.Diatomic(\n",
    "    name='SiO',\n",
    "    stoichiometry={'Si': 1, 'O': 1},\n",
    "    molarmass=0.0440849,\n",
    "    chargenumber=0,\n",
    "    ionisationenergy=invcm_to_joule*92673.11,\n",
    "    dissociationenergy=invcm_to_joule*66707.6,\n",
    "    sigma_s=1,\n",
    "    g0=1,\n",
    "    w_e=invcm_to_joule*1241.55,\n",
    "    b_e=invcm_to_joule*0.7267512,\n",
    "    sources=['NIST Chemistry WebBook, NIST Standard Reference Database Number 69. '\n",
    "             'PJ Linstrom and WG Mallard (Editors), National Institute of Standards '\n",
    "             'and Technology, Gaithersburg MD., http://webbook.nist.gov/chemistry/, '\n",
    "             'doi:10.18434/T4D303'])\n",
    "\n",
    "siliconoxide.to_file()"
   ]
  },
  {
   "cell_type": "markdown",
   "metadata": {},
   "source": [
    "What's happening here? First we import the minplascalc package, then we create a `Diatomic` species object using our data, and finally we save the contents to a file.\n",
    "\n",
    "The `Diatomic` class constructor takes as arguments the species name, a small dictionary describing the elemental stoichiometry of the species (in this case one oxygen and one silicon), the molar mass in kg/mol, the charge on the species in units of the fundamental charge (in this case 0 because SiO is a neutral species), the ionisation energy (calculated from electron affinity for negatively-charged species) and dissociation energy (needed for neutral species only) of the species in J, and the electronic, vibrational, and rotational energy level parameters (all converted to energy in J), and a list of data sources for referencing. The object can be written out to disk using the Species object's `to_file` utility function, which saves data to a JSON-formatted file. It takes an optional file path argument - if omitted, the filename is created using the species' name and written to the current working directory.\n",
    "\n",
    "After this process it will be possible to create an SiO species object in any minplascalc calculation by importing it using either the explicit path to the JSON file, or (preferably) just the name of the species provided the JSON file is stored in any of the standard minplascalc data paths - see later demos for examples."
   ]
  }
 ],
 "metadata": {
  "kernelspec": {
   "display_name": "Python 3",
   "language": "python",
   "name": "python3"
  },
  "language_info": {
   "codemirror_mode": {
    "name": "ipython",
    "version": 3
   },
   "file_extension": ".py",
   "mimetype": "text/x-python",
   "name": "python",
   "nbconvert_exporter": "python",
   "pygments_lexer": "ipython3",
   "version": "3.6.9"
  }
 },
 "nbformat": 4,
 "nbformat_minor": 1
}
