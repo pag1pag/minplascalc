{
 "cells": [
  {
   "cell_type": "markdown",
   "metadata": {},
   "source": [
    "### Tutorial 2: Adding a new monatomic species entry to your local data store, the automatic way\n",
    "\n",
    "If you would like to do calculations using a plasma species that you haven't used before, you will need to generate a minplascalc data entry for it first. You only need to do this <i>once</i> - minplascalc will store the species data in a plain-text file formatted using JSON syntax, and it will then be available for use in any of your future calculations.\n",
    "\n",
    "For neutral and positively-charged monatomic species minplascalc has built-in readers for handling data obtained from the energy levels section of NIST Atomic Spectra Database, which can be found at http://physics.nist.gov/PhysRefData/ASD/levels_form.html. Since the format in which the ASD reports energy levels is fairly consistent, the data can be retrieved from the site using automated tools - special thanks to Carl Sandrock for contributing the scraping methods in the following code snippets.\n",
    "\n",
    "Start by importing and initialising the required modules: request for handling HTTP requests, HTMLparser for prettifying the returned data, io for passing it to minplascalc's constructors, and obviously minplascalc itself."
   ]
  },
  {
   "cell_type": "code",
   "execution_count": 1,
   "metadata": {},
   "outputs": [],
   "source": [
    "import requests\n",
    "from html.parser import HTMLParser\n",
    "import io\n",
    "import minplascalc as mpc"
   ]
  },
  {
   "cell_type": "markdown",
   "metadata": {},
   "source": [
    "Generate a request for the singly-charged oxygen cation O<sup>+</sup>, or \"O II\" in spectrography speak."
   ]
  },
  {
   "cell_type": "code",
   "execution_count": 2,
   "metadata": {},
   "outputs": [],
   "source": [
    "compoundname = 'O II'\n",
    "url = \"https://physics.nist.gov/cgi-bin/ASD/energy1.pl\"\n",
    "props = {'encodedlist': 'XXT2',\n",
    "         'spectrum': compoundname,  # This is the compound name\n",
    "         'submit': 'Retrieve Data',\n",
    "         'units': 0,\n",
    "         'format': 1,  # 0 for HTML 1 for ASCII\n",
    "         'output': 0,\n",
    "         'page_size': 15,\n",
    "         'multiplet_ordered': 0,\n",
    "         'level_out': 'on',\n",
    "         'j_out': 'on',\n",
    "         'temp': None}"
   ]
  },
  {
   "cell_type": "markdown",
   "metadata": {},
   "source": [
    "Pull the data from NIST."
   ]
  },
  {
   "cell_type": "code",
   "execution_count": 3,
   "metadata": {},
   "outputs": [],
   "source": [
    "r = requests.post(url, data=props)\n",
    "ascii_response = r.text"
   ]
  },
  {
   "cell_type": "markdown",
   "metadata": {},
   "source": [
    "The following code snippet is copied from the documentation on html.parser, and generates a parser object for filtering the NIST page's ASCII response."
   ]
  },
  {
   "cell_type": "code",
   "execution_count": 4,
   "metadata": {},
   "outputs": [],
   "source": [
    "class MyHTMLParser(HTMLParser):\n",
    "    def __init__(self):\n",
    "        super().__init__()\n",
    "        self.str = ''\n",
    "        self.armed = False\n",
    "\n",
    "        \n",
    "    def handle_starttag(self, tag, attrs):\n",
    "        if tag.lower() == 'pre':\n",
    "            self.armed = True\n",
    "            \n",
    "    def handle_endtag(self, tag):\n",
    "        if tag.lower() == 'pre':\n",
    "            self.armed = False\n",
    "        \n",
    "    def handle_data(self, data):\n",
    "        if self.armed:\n",
    "            self.str += data\n",
    "            \n",
    "parser = MyHTMLParser()"
   ]
  },
  {
   "cell_type": "markdown",
   "metadata": {},
   "source": [
    "Use the parser object to prune the extraneous content out of the NIST response."
   ]
  },
  {
   "cell_type": "code",
   "execution_count": 5,
   "metadata": {},
   "outputs": [],
   "source": [
    "parser.feed(ascii_response)"
   ]
  },
  {
   "cell_type": "markdown",
   "metadata": {},
   "source": [
    "Pass the species data into minplascalc and build a local JSON data entry for it."
   ]
  },
  {
   "cell_type": "code",
   "execution_count": 6,
   "metadata": {},
   "outputs": [],
   "source": [
    "from scipy import constants\n",
    "invcm_to_joule = constants.Boltzmann / (0.01*constants.value('Boltzmann constant in inverse meters per kelvin'))\n",
    "\n",
    "energylevels = mpc.parsers.nist_energylevels(io.StringIO(parser.str))\n",
    "for el in energylevels:\n",
    "    el[1] *= invcm_to_joule\n",
    "\n",
    "oxygenplus = mpc.species.Monatomic(\n",
    "    name='O+',\n",
    "    stoichiometry={'O': 1},\n",
    "    molarmass=0.0159994,\n",
    "    chargenumber=1,\n",
    "    ionisationenergy=invcm_to_joule*283270.9,\n",
    "    energylevels=energylevels,\n",
    "    sources=['NIST Atomic Spectra Database (ver. 5.3), [Online]. A Kramida, '\n",
    "             'Yu Ralchenko, J Reader, and NIST ASD Team, National Institute '\n",
    "             'of Standards and Technology, Gaithersburg MD., '\n",
    "             'http://physics.nist.gov/asd'])\n",
    "\n",
    "oxygenplus.to_file()"
   ]
  },
  {
   "cell_type": "markdown",
   "metadata": {},
   "source": [
    "What's happening here? First we read the energy levels from the NIST scraped data (converting to J), then we create a `Monatomic` species object, and finally we save the contents to a data file.\n",
    "\n",
    "The `Monatomic` class constructor takes as arguments the species name, a small dictionary describing the elemental stoichiometry of the species (in this case a single oxygen atom), the molar mass in kg/mol, the charge on the species in units of the fundamental charge (in this case 1 because O<sup>+</sup> is singly charged), the ionisation energy of the species in J, a list of length-2 lists describing the energy levels (degeneracy and energy in J of each level respectively), and a list of data sources for referencing. The object can be written out to disk using the Species object's `to_file` utility function, which saves data to a JSON-formatted file. It takes an optional file path argument - if omitted, the filename is created using the species' name and written to the current working directory.\n",
    "\n",
    "After this process it will be possible to create an O<sup>+</sup> species object in any minplascalc calculation by importing it using either the explicit path to the JSON file, or (preferably) just the name of the species provided the JSON file is stored in any of the standard minplascalc data paths - see later tutorials for examples."
   ]
  }
 ],
 "metadata": {
  "kernelspec": {
   "display_name": "Python 3",
   "language": "python",
   "name": "python3"
  },
  "language_info": {
   "codemirror_mode": {
    "name": "ipython",
    "version": 3
   },
   "file_extension": ".py",
   "mimetype": "text/x-python",
   "name": "python",
   "nbconvert_exporter": "python",
   "pygments_lexer": "ipython3",
   "version": "3.6.9"
  }
 },
 "nbformat": 4,
 "nbformat_minor": 1
}
