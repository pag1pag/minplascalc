{
 "cells": [
  {
   "cell_type": "markdown",
   "metadata": {},
   "source": [
    "### Tutorial 2: Adding a new diatomic species entry to your local data store\n",
    "\n",
    "If you would like to do calculations using a plasma species that you haven't used before, you will need to generate a minplascalc data entry for it first. You only need to do this <i>once</i> - minplascalc will store the species data in a plain-text file formatted using JSON syntax, and it will then be available for use in any of your future calculations.\n",
    "\n",
    "The procedure for generating a minplascalc data entry for a new diatomic species is entirely manual since the data required must be retrieved from various locations. The majority of data for a wide range of species is available from the NIST Chemistry WebBook, http://webbook.nist.gov/chemistry/form-ser/. Enter the formula for the diatomic species you're interested in in the search box at the top of the page, and click the Search button. If you're looking for data for charged diatomic ions, make sure the \"Exclude ions from the search\" box is unchecked. Let's build a data entry for Silicon Monoxide, SiO:"
   ]
  },
  {
   "cell_type": "markdown",
   "metadata": {},
   "source": [
    "<table>\n",
    "<td><img src=\"demoimg/webbook_landingpage.png\" alt=\"NIST Chemistry WebBook\" style=\"height: 300px;\"/>\n",
    "<td><img src=\"demoimg/webbook_sio.png\" alt=\"SiO WebBook entry\" style=\"height: 300px;\"/>\n",
    "</table>"
   ]
  },
  {
   "cell_type": "markdown",
   "metadata": {},
   "source": [
    "The first pieces of information needed are the ionisation energy (to turn SiO into SiO<sup>+</sup>) and the dissociation energy (to turn SiO into monatomic Si and O). The ionisation energy can be found on the \"Gas phase ion energetics\" link on the Chemistry WebBook species page and is usually in units of eV, so remember to convert:"
   ]
  },
  {
   "cell_type": "markdown",
   "metadata": {},
   "source": [
    "<img src=\"demoimg/webbook_ionenergetics.png\" alt=\"SiO ionisation energy\" style=\"width: 400px;\"/>"
   ]
  },
  {
   "cell_type": "markdown",
   "metadata": {},
   "source": [
    "The dissociation energy can be found either on the NIST Computational Chemistry Comparison and Benchmark Database (http://cccbdb.nist.gov/introx.asp), or alternatively from chemistry textbooks or other sources. In the case of SiO, the value is 798 kJ/mol.\n",
    "\n",
    "We then need some information about the electronic ground state of the molecule, and its vibrational and rotational parameters. To get this, go back to the main page for SiO in the Chemistry WebBook and click on \"Constants of diatomic molecules\". This gives the parameters of various energetic states of the molecule - we want the ground state with energy $T_e$ = 0, so scroll all the way down to the entry at the very bottom:"
   ]
  },
  {
   "cell_type": "markdown",
   "metadata": {},
   "source": [
    "<table>\n",
    "<td><img src=\"demoimg/webbook_constants1.png\" alt=\"Molecule constants\" style=\"height: 250px;\"/>\n",
    "<td><img src=\"demoimg/webbook_constants2.png\" alt=\"Ground state level entry\" style=\"height: 250px;\"/>\n",
    "</table>"
   ]
  },
  {
   "cell_type": "markdown",
   "metadata": {},
   "source": [
    "The multiplicity and electronic degeneracy of the ground state, $g_0$, is generally given by the superscripted number in the molecular term expression in the \"State\" column - in the case of SiO, it's 1. \n",
    "\n",
    "Additional pieces of data needed to create a diatomic species object are:\n",
    "* The elemental stoichiometry of the species.\n",
    "* The molar mass of the species, in kg/mol.\n",
    "* The electric charge in units of the elementary charge.\n",
    "* The ionisation energy of the species, in J.\n",
    "* The dissociation (atomisation) energy of the species, in J, only used by neutral species.\n",
    "* The symmetry constant $\\sigma_s$, takes a value of 1 for heteronuclear molecules like SiO, and 2 for homonuclear molecules like O<sub>2</sub>.\n",
    "* The vibrational constant $\\omega_e$, in J.\n",
    "* The rotational constant $B_e$, in J.\n",
    "* The polarisability of the species, in m<sup>3</sup>.\n",
    "* The multiplicity of the ground state.\n",
    "* The number of effective valence electrons (see docstring for more information), only used by neutral species.\n",
    "* Information about electron collision cross sections (see docstring for more information), only used by neutral species.\n",
    "* A list of radiation emission line data, if available (see Tutorial 1 for more information).\n",
    "* A list of sources describing the provenance of the data.\n",
    "\n",
    "With these we have all the information to build a minplascalc data entry for the SiO species, which can be done by running the following code snippet:"
   ]
  },
  {
   "cell_type": "code",
   "execution_count": 1,
   "metadata": {},
   "outputs": [
    {
     "name": "stdout",
     "output_type": "stream",
     "text": [
      "Species: SiO\n",
      "Type: Diatomic molecule\n",
      "Stoichiometry: {'Si': 1, 'O': 1}\n",
      "Molar mass: 0.044084905 kg/mol\n",
      "Charge number: 0\n",
      "Dissociation energy: 1.3251101756047297e-18 J\n",
      "Ionisation energy: 1.840900952466e-18 J\n",
      "sigma_s: 1\n",
      "g0: 1\n",
      "w_e: 2.466272671803936e-20 J\n",
      "B_e: 1.4436523891592904e-23 J\n",
      "Polarisability: 3.962e-30 m^3\n",
      "Multiplicity: 1\n",
      "Effective valence electrons: 10.495867769\n",
      "Electron cross section data: 2.4197353806e-19\n",
      "Emission lines: 0\n"
     ]
    }
   ],
   "source": [
    "from scipy import constants\n",
    "\n",
    "import minplascalc as mpc\n",
    "\n",
    "invcm_to_joule = constants.Boltzmann / (\n",
    "    0.01\n",
    "    * constants.physical_constants[\"Boltzmann constant in inverse meters per kelvin\"][0]\n",
    ")\n",
    "eV_to_joule = constants.elementary_charge\n",
    "\n",
    "siliconoxide = mpc.species.Diatomic(\n",
    "    name=\"SiO\",\n",
    "    stoichiometry={\"Si\": 1, \"O\": 1},\n",
    "    molarmass=0.044084905,\n",
    "    chargenumber=0,\n",
    "    ionisationenergy=eV_to_joule * 11.49,\n",
    "    dissociationenergy=798 * 1000 / constants.Avogadro,\n",
    "    sigma_s=1,\n",
    "    g0=1,\n",
    "    w_e=invcm_to_joule * 1241.55,\n",
    "    b_e=invcm_to_joule * 0.7267512,\n",
    "    polarisability=3.962e-30,\n",
    "    multiplicity=1,\n",
    "    effectiveelectrons=10.495867769,\n",
    "    electroncrosssection=2.4197353806e-19,\n",
    "    emissionlines=[],\n",
    "    sources=[\n",
    "        \"NIST Chemistry WebBook, NIST Standard Reference Database Number 69. \"\n",
    "        \"PJ Linstrom and WG Mallard (Editors), National Institute of Standards \"\n",
    "        \"and Technology, Gaithersburg MD., http://webbook.nist.gov/chemistry/, \"\n",
    "        \"doi:10.18434/T4D303\"\n",
    "    ],\n",
    ")\n",
    "\n",
    "print(siliconoxide)\n",
    "\n",
    "siliconoxide.to_file()"
   ]
  },
  {
   "cell_type": "markdown",
   "metadata": {},
   "source": [
    "What's happening here? First we import the minplascalc package, then we create a `Diatomic` species object using our data, and finally we save the contents to a file.\n",
    "\n",
    "The `Diatomic` class constructor takes as arguments the list of data described above. Once created, the object can be written out to disk using the Species object's `to_file` utility function, which saves data to a human-readable JSON-formatted file. It takes an optional file path argument - if omitted, the filename is created using the species' name and written to the current working directory.\n",
    "\n",
    "After this process it will be possible to create an SiO species object in any minplascalc calculation by importing it using either the explicit path to the JSON file, or (preferably) just the name of the species provided the JSON file is stored in any of the standard minplascalc data paths - see later demos for examples. Note that for this to work correctly in all cases, minplascalc's JSON files must be stored on a case-sensitive operating system or partition."
   ]
  }
 ],
 "metadata": {
  "kernelspec": {
   "display_name": "Python 3 (ipykernel)",
   "language": "python",
   "name": "python3"
  },
  "language_info": {
   "codemirror_mode": {
    "name": "ipython",
    "version": 3
   },
   "file_extension": ".py",
   "mimetype": "text/x-python",
   "name": "python",
   "nbconvert_exporter": "python",
   "pygments_lexer": "ipython3",
   "version": "3.9.6"
  }
 },
 "nbformat": 4,
 "nbformat_minor": 4
}
